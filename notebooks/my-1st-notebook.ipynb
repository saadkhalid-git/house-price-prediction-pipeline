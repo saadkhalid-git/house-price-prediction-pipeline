{
 "cells": [
  {
   "cell_type": "code",
   "execution_count": 1,
   "metadata": {},
   "outputs": [],
   "source": [
    "import numpy as np"
   ]
  },
  {
   "cell_type": "code",
   "execution_count": 3,
   "metadata": {},
   "outputs": [
    {
     "data": {
      "text/plain": [
       "array([[0.14251426, 0.39055941, 0.27419294],\n",
       "       [0.89382368, 0.90115322, 0.33183013],\n",
       "       [0.55026778, 0.07978569, 0.32241947],\n",
       "       [0.05578213, 0.6258203 , 0.80455945],\n",
       "       [0.07055152, 0.42513073, 0.08959246],\n",
       "       [0.65596803, 0.65909961, 0.64288827],\n",
       "       [0.69002806, 0.65016357, 0.08125627],\n",
       "       [0.04593598, 0.41567543, 0.71726648],\n",
       "       [0.42508488, 0.37751184, 0.38539356],\n",
       "       [0.3420723 , 0.66836284, 0.81238692]])"
      ]
     },
     "metadata": {},
     "output_type": "display_data"
    }
   ],
   "source": [
    "array = np.random.rand(10, 3)\n",
    "display(array)"
   ]
  },
  {
   "cell_type": "code",
   "execution_count": null,
   "metadata": {},
   "outputs": [],
   "source": []
  }
 ],
 "metadata": {
  "kernelspec": {
   "display_name": "epita-dsp",
   "language": "python",
   "name": "python3"
  },
  "language_info": {
   "codemirror_mode": {
    "name": "ipython",
    "version": 3
   },
   "file_extension": ".py",
   "mimetype": "text/x-python",
   "name": "python",
   "nbconvert_exporter": "python",
   "pygments_lexer": "ipython3",
   "version": "3.9.19"
  },
  "orig_nbformat": 4
 },
 "nbformat": 4,
 "nbformat_minor": 2
}
